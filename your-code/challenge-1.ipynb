{
  "cells": [
    {
      "cell_type": "markdown",
      "metadata": {
        "id": "fhLn7xIACsoL"
      },
      "source": [
        "## Challenge 1: Tuples\n",
        "\n",
        "#### Do you know you can create tuples with only one element?\n",
        "\n",
        "**In the cell below, define a variable `tup` with a single element `\"I\"`.**\n",
        "\n",
        "*Hint: you need to add a comma (`,`) after the single element.*"
      ]
    },
    {
      "cell_type": "code",
      "execution_count": 1,
      "metadata": {
        "id": "itlsjrvyCsoN"
      },
      "outputs": [],
      "source": [
        "# Your code here\n",
        "\n",
        "tup = (\"I\",)\n"
      ]
    },
    {
      "cell_type": "markdown",
      "metadata": {
        "id": "ZKX3SEnwCsoP"
      },
      "source": [
        "#### Print the type of `tup`. \n",
        "\n",
        "Make sure its type is correct (i.e. *tuple* instead of *str*)."
      ]
    },
    {
      "cell_type": "code",
      "execution_count": 2,
      "metadata": {
        "colab": {
          "base_uri": "https://localhost:8080/"
        },
        "id": "bTAeisXICsoP",
        "outputId": "6b91d199-eacb-4594-9a22-904ff8fa785a"
      },
      "outputs": [
        {
          "output_type": "execute_result",
          "data": {
            "text/plain": [
              "tuple"
            ]
          },
          "metadata": {},
          "execution_count": 2
        }
      ],
      "source": [
        "# Your code here\n",
        "type(tup)"
      ]
    },
    {
      "cell_type": "markdown",
      "metadata": {
        "id": "guhCLbQJCsoQ"
      },
      "source": [
        "#### Now try to append the following elements to `tup`. \n",
        "\n",
        "Are you able to do it? Explain.\n",
        "\n",
        "```\n",
        "\"r\", \"o\", \"n\", \"h\", \"a\", \"c\", \"k',\n",
        "```"
      ]
    },
    {
      "cell_type": "code",
      "execution_count": 6,
      "metadata": {
        "colab": {
          "base_uri": "https://localhost:8080/"
        },
        "id": "9Zn29GhXCsoQ",
        "outputId": "dbace988-006c-4c6d-d013-db4be7ca1b64"
      },
      "outputs": [
        {
          "output_type": "stream",
          "name": "stdout",
          "text": [
            "('I', 'r', 'o', 'n', 'h', 'a', 'c', 'k')\n"
          ]
        }
      ],
      "source": [
        "# Your code here\n",
        "list1 = list(tup) \n",
        "list2 = [\"r\", \"o\", \"n\", \"h\", \"a\", \"c\", \"k\"]\n",
        "list3 = list1 + list2\n",
        "tup1 = tuple(list3)\n",
        "print (tup1)\n",
        "# Your explanation here\n",
        "#No puedo modificar la tupla como tal, pero sí puedo convertir la tupla a lista, modificar la lista y conseguir un nuevo elemento en forma de tupla que tenga añadidos los valores indicados."
      ]
    },
    {
      "cell_type": "markdown",
      "metadata": {
        "id": "GX9q5e_yCsoR"
      },
      "source": [
        "#### How about re-assign a new value to an existing tuple?\n",
        "\n",
        "Re-assign the following elements to `tup`. Are you able to do it? Explain.\n",
        "\n",
        "```\n",
        "\"I\", \"r\", \"o\", \"n\", \"h\", \"a\", \"c\", \"k\"\n",
        "```"
      ]
    },
    {
      "cell_type": "code",
      "execution_count": 7,
      "metadata": {
        "colab": {
          "base_uri": "https://localhost:8080/"
        },
        "id": "aDJ9CJaVCsoS",
        "outputId": "0ed9fb2d-8080-46d1-99ec-91ebf429dcc6"
      },
      "outputs": [
        {
          "output_type": "stream",
          "name": "stdout",
          "text": [
            "Object `no` not found.\n"
          ]
        }
      ],
      "source": [
        "# Your code here\n",
        "\n",
        "# Your explanation here\n",
        "Aquí entiendo que esto es el mismo ejercicio de antes, ¿no?"
      ]
    },
    {
      "cell_type": "markdown",
      "metadata": {
        "id": "4SNJp6LPCsoT"
      },
      "source": [
        "#### Split `tup` into `tup1` and `tup2` with 4 elements in each. \n",
        "\n",
        "`tup1` should be `(\"I\", \"r\", \"o\", \"n\")` and `tup2` should be `(\"h\", \"a\", \"c\", \"k\")`.\n",
        "\n",
        "*Hint: use positive index numbers for `tup1` assignment and use negative index numbers for `tup2` assignment. Positive index numbers count from the beginning whereas negative index numbers count from the end of the sequence.*\n",
        "\n",
        "Also print `tup1` and `tup2`."
      ]
    },
    {
      "cell_type": "code",
      "execution_count": 10,
      "metadata": {
        "colab": {
          "base_uri": "https://localhost:8080/"
        },
        "id": "Ex0znY-bCsoT",
        "outputId": "323c3ff4-7175-47fd-b403-dfcd0c444d53"
      },
      "outputs": [
        {
          "output_type": "stream",
          "name": "stdout",
          "text": [
            "('I', 'r', 'o', 'n')\n",
            "('h', 'a', 'c', 'k')\n"
          ]
        }
      ],
      "source": [
        "# Your code here\n",
        "flist=(list3[:4])\n",
        "dlist=(list3[4:])\n",
        "tup2=tuple(flist)\n",
        "tup3=tuple(dlist)\n",
        "print(tup2)\n",
        "print(tup3)"
      ]
    },
    {
      "cell_type": "markdown",
      "metadata": {
        "id": "IEqaL7bGCsoU"
      },
      "source": [
        "#### Add `tup1` and `tup2` into `tup3` using the `+` operator.\n",
        "\n",
        "Then print `tup3` and check if `tup3` equals to `tup`."
      ]
    },
    {
      "cell_type": "code",
      "execution_count": 14,
      "metadata": {
        "colab": {
          "base_uri": "https://localhost:8080/"
        },
        "id": "FGzmcEdbCsoU",
        "outputId": "bf11d277-1b01-43d9-d6cf-f1adeb8d0f82"
      },
      "outputs": [
        {
          "output_type": "stream",
          "name": "stdout",
          "text": [
            "('I', 'r', 'o', 'n', 'h', 'a', 'c', 'k')\n"
          ]
        },
        {
          "output_type": "execute_result",
          "data": {
            "text/plain": [
              "True"
            ]
          },
          "metadata": {},
          "execution_count": 14
        }
      ],
      "source": [
        "# Your code here\n",
        "tup4 = tup2 + tup3\n",
        "print(tup4)\n",
        "tup4 == tup1"
      ]
    },
    {
      "cell_type": "markdown",
      "metadata": {
        "id": "hVoQx1txCsoU"
      },
      "source": [
        "#### Count the number of elements in `tup1` and `tup2`. Then add the two counts together and check if the sum is the same as the number of elements in `tup3`."
      ]
    },
    {
      "cell_type": "code",
      "execution_count": 21,
      "metadata": {
        "colab": {
          "base_uri": "https://localhost:8080/"
        },
        "id": "rLkW-2U2CsoV",
        "outputId": "62efaae7-9b9d-4bfd-f48e-a688e81ac736"
      },
      "outputs": [
        {
          "output_type": "execute_result",
          "data": {
            "text/plain": [
              "True"
            ]
          },
          "metadata": {},
          "execution_count": 21
        }
      ],
      "source": [
        "# Your code here\n",
        "len(tup2)\n",
        "len(tup3)\n",
        "len(tup2) + len(tup3) == len(tup4)\n"
      ]
    },
    {
      "cell_type": "markdown",
      "metadata": {
        "id": "vKcicAduCsoV"
      },
      "source": [
        "#### What is the index number of `\"h\"` in `tup3`?"
      ]
    },
    {
      "cell_type": "code",
      "execution_count": 22,
      "metadata": {
        "colab": {
          "base_uri": "https://localhost:8080/"
        },
        "id": "aHZceN9xCsoV",
        "outputId": "7de5b270-ab38-4d35-e505-a67749518c18"
      },
      "outputs": [
        {
          "output_type": "execute_result",
          "data": {
            "text/plain": [
              "4"
            ]
          },
          "metadata": {},
          "execution_count": 22
        }
      ],
      "source": [
        "# Your code here\n",
        "tup4.index(\"h\")"
      ]
    },
    {
      "cell_type": "markdown",
      "metadata": {
        "id": "PUCavZ9yCsoV"
      },
      "source": [
        "#### Now, use a FOR loop to check whether each letter in the following list is present in `tup3`:\n",
        "\n",
        "```\n",
        "letters = [\"a\", \"b\", \"c\", \"d\", \"e\"]\n",
        "```\n",
        "\n",
        "For each letter you check, print `True` if it is present in `tup3` otherwise print `False`.\n",
        "\n",
        "*Hint: you only need to loop `letters`. You don't need to loop `tup3` because there is a Python operator `in` you can use. See [reference](https://stackoverflow.com/questions/17920147/how-to-check-if-a-tuple-contains-an-element-in-python).*"
      ]
    },
    {
      "cell_type": "code",
      "execution_count": 29,
      "metadata": {
        "colab": {
          "base_uri": "https://localhost:8080/"
        },
        "id": "lsGeSEACCsoW",
        "outputId": "6f99556a-d2e7-4303-f650-fcbc11fd4b7a"
      },
      "outputs": [
        {
          "output_type": "stream",
          "name": "stdout",
          "text": [
            "True\n",
            "False\n",
            "True\n",
            "False\n",
            "False\n"
          ]
        }
      ],
      "source": [
        "# Your code here\n",
        "letters = [\"a\", \"b\", \"c\", \"d\", \"e\"]\n",
        "for (i) in letters:\n",
        "  if (i) in tup4:\n",
        "    print (\"True\")\n",
        "  else:\n",
        "    print (\"False\")\n"
      ]
    },
    {
      "cell_type": "markdown",
      "metadata": {
        "id": "EygErG3cCsoW"
      },
      "source": [
        "#### How many times does each letter in `letters` appear in `tup3`?\n",
        "\n",
        "Print out the number of occurrence of each letter."
      ]
    },
    {
      "cell_type": "code",
      "execution_count": 53,
      "metadata": {
        "colab": {
          "base_uri": "https://localhost:8080/",
          "height": 131
        },
        "id": "sb5Qe0TpCsoW",
        "outputId": "53d50aee-e607-4688-ec37-1e684e9c89c5"
      },
      "outputs": [
        {
          "output_type": "error",
          "ename": "SyntaxError",
          "evalue": "ignored",
          "traceback": [
            "\u001b[0;36m  File \u001b[0;32m\"<ipython-input-53-8d830a3148e2>\"\u001b[0;36m, line \u001b[0;32m6\u001b[0m\n\u001b[0;31m    print ((i) \"appear\" a+=1 \"times\")\u001b[0m\n\u001b[0m                      ^\u001b[0m\n\u001b[0;31mSyntaxError\u001b[0m\u001b[0;31m:\u001b[0m invalid syntax\n"
          ]
        }
      ],
      "source": [
        "# Your code here\n",
        "a=0\n",
        "\n",
        "for (i) in tup4:\n",
        "  if (i) in letters:\n",
        "    print ((i) \"appear\" a+=1 \"times\")\n",
        "  else:\n",
        "      print (\"No\")\n",
        "\n",
        "#Me da error al incluir los strings en el print. Si incluyo solo (i) o solo el mensaje de string, me lo hace correctamente, pero no consigo imprimir el mensaje entero."
      ]
    }
  ],
  "metadata": {
    "kernelspec": {
      "display_name": "Python 3",
      "language": "python",
      "name": "python3"
    },
    "language_info": {
      "codemirror_mode": {
        "name": "ipython",
        "version": 3
      },
      "file_extension": ".py",
      "mimetype": "text/x-python",
      "name": "python",
      "nbconvert_exporter": "python",
      "pygments_lexer": "ipython3",
      "version": "3.7.2"
    },
    "colab": {
      "name": "challenge-1.ipynb",
      "provenance": [],
      "collapsed_sections": []
    }
  },
  "nbformat": 4,
  "nbformat_minor": 0
}