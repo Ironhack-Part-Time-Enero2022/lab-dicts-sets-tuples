{
  "cells": [
    {
      "cell_type": "markdown",
      "metadata": {
        "id": "G6SIE3GsvdYC"
      },
      "source": [
        "## Challenge 2: Sets\n",
        "\n",
        "There are a lot to learn about Python Sets and the information presented in the lesson is limited due to its length. To learn Python Sets in depth you are strongly encouraged to review the W3Schools tutorial on [Python Sets Examples and Methods](https://www.w3schools.com/python/python_sets.asp) before you work on this lab. Some difficult questions in this lab have their solutions in the W3Schools tutorial.\n",
        "\n",
        "#### First, import the Python `random` library."
      ]
    },
    {
      "cell_type": "code",
      "execution_count": 1,
      "metadata": {
        "id": "91AWCD00vdYE"
      },
      "outputs": [],
      "source": [
        "import random"
      ]
    },
    {
      "cell_type": "markdown",
      "metadata": {
        "id": "MU5Fmry4vdYF"
      },
      "source": [
        "#### In the cell below, create a list named `sample_list_1` with 80 random values. \n",
        "\n",
        "Requirements:\n",
        "\n",
        "* Each value is an integer falling between 0 and 100.\n",
        "* Each value in the list is unique.\n",
        "\n",
        "Print `sample_list_1` to review its values\n",
        "\n",
        "*Hint: use `random.sample` ([reference](https://docs.python.org/3/library/random.html#random.sample)).*"
      ]
    },
    {
      "cell_type": "code",
      "execution_count": 2,
      "metadata": {
        "colab": {
          "base_uri": "https://localhost:8080/"
        },
        "id": "sn2_nHYrvdYF",
        "outputId": "36739cbe-8d5c-40af-a3f3-c04fd7908b9e"
      },
      "outputs": [
        {
          "output_type": "stream",
          "name": "stdout",
          "text": [
            "[62, 80, 92, 23, 36, 33, 51, 75, 31, 96, 13, 41, 74, 97, 94, 12, 18, 85, 35, 32, 53, 69, 86, 47, 70, 78, 52, 48, 4, 22, 79, 3, 8, 15, 67, 71, 58, 66, 19, 82, 50, 54, 72, 93, 40, 45, 61, 30, 59, 91, 24, 1, 6, 98, 49, 2, 11, 89, 81, 25, 44, 16, 37, 65, 57, 26, 90, 55, 68, 63, 95, 0, 42, 84, 77, 27, 20, 87, 46, 60]\n"
          ]
        }
      ],
      "source": [
        "# Your code here\n",
        "sample_list_1 = random.sample(range(0, 100), 80)\n",
        "print (sample_list_1)"
      ]
    },
    {
      "cell_type": "markdown",
      "metadata": {
        "id": "ggwWxcjOvdYF"
      },
      "source": [
        "#### Convert `sample_list_1` to a set called `set1`. Print the length of the set. Is its length still 80?"
      ]
    },
    {
      "cell_type": "code",
      "execution_count": 3,
      "metadata": {
        "colab": {
          "base_uri": "https://localhost:8080/"
        },
        "id": "C3mi-83QvdYG",
        "outputId": "a1a66897-3c87-476b-e1b3-e0f30168de1b"
      },
      "outputs": [
        {
          "output_type": "stream",
          "name": "stdout",
          "text": [
            "80\n"
          ]
        }
      ],
      "source": [
        "# Your code here\n",
        "set1 = set(sample_list_1)\n",
        "print (len(set1))"
      ]
    },
    {
      "cell_type": "markdown",
      "metadata": {
        "id": "Fo0EdCs8vdYG"
      },
      "source": [
        "#### Create another list named `sample_list_2` with 80 random values.\n",
        "\n",
        "Requirements:\n",
        "\n",
        "* Each value is an integer falling between 0 and 100.\n",
        "* The values in the list don't have to be unique.\n",
        "\n",
        "*Hint: Use a FOR loop.*"
      ]
    },
    {
      "cell_type": "code",
      "execution_count": 4,
      "metadata": {
        "colab": {
          "base_uri": "https://localhost:8080/"
        },
        "id": "u5LYH3BcvdYG",
        "outputId": "0dce6d71-e32c-4622-ac5b-64b4bef4abd5"
      },
      "outputs": [
        {
          "output_type": "stream",
          "name": "stdout",
          "text": [
            "[15, 64, 82, 69, 62, 75, 2, 37, 37, 45, 34, 13, 49, 99, 20, 8, 38, 25, 69, 63, 79, 8, 45, 58, 12, 38, 11, 68, 64, 97, 55, 37, 13, 48, 46, 87, 66, 9, 87, 28, 45, 32, 54, 80, 80, 5, 21, 82, 45, 20, 20, 50, 10, 93, 54, 25, 23, 2, 79, 71, 26, 18, 21, 22, 81, 42, 64, 38, 45, 52, 55, 13, 81, 44, 29, 78, 69, 45, 41, 6]\n"
          ]
        }
      ],
      "source": [
        "# Your code here\n",
        "sample_list_2 = []\n",
        "\n",
        "for (i) in sample_list_1:\n",
        "  sample_list_2.append(random.randrange(0, 100))\n",
        "\n",
        "print (sample_list_2)\n",
        "  "
      ]
    },
    {
      "cell_type": "markdown",
      "metadata": {
        "id": "P4RWWzv8vdYG"
      },
      "source": [
        "#### Convert `sample_list_2` to a set called `set2`. Print the length of the set. Is its length still 80?"
      ]
    },
    {
      "cell_type": "code",
      "execution_count": 5,
      "metadata": {
        "colab": {
          "base_uri": "https://localhost:8080/"
        },
        "id": "bGXdP-iuvdYH",
        "outputId": "eb791b52-f2dd-4899-b356-a7add1b88787"
      },
      "outputs": [
        {
          "output_type": "execute_result",
          "data": {
            "text/plain": [
              "52"
            ]
          },
          "metadata": {},
          "execution_count": 5
        }
      ],
      "source": [
        "# Your code here\n",
        "set2 = set(sample_list_2)\n",
        "len(set2)"
      ]
    },
    {
      "cell_type": "markdown",
      "metadata": {
        "id": "HIDaq9FcvdYH"
      },
      "source": [
        "#### Identify the elements present in `set1` but not in `set2`. Assign the elements to a new set named `set3`."
      ]
    },
    {
      "cell_type": "code",
      "execution_count": 6,
      "metadata": {
        "colab": {
          "base_uri": "https://localhost:8080/"
        },
        "id": "-SL7rptjvdYH",
        "outputId": "4e2a2034-64fd-4d8a-9d68-6e45170a34b5"
      },
      "outputs": [
        {
          "output_type": "stream",
          "name": "stdout",
          "text": [
            "{0, 1, 3, 4, 16, 19, 24, 27, 30, 31, 33, 35, 36, 40, 47, 51, 53, 57, 59, 60, 61, 65, 67, 70, 72, 74, 77, 84, 85, 86, 89, 90, 91, 92, 94, 95, 96, 98}\n"
          ]
        }
      ],
      "source": [
        "# Your code here\n",
        "set3 = (set1.difference(set2))\n",
        "\n",
        "print (set3)"
      ]
    },
    {
      "cell_type": "markdown",
      "metadata": {
        "id": "alZpVb2mvdYH"
      },
      "source": [
        "#### Identify the elements present in `set2` but not in `set1`. Assign the elements to a new set named `set4`."
      ]
    },
    {
      "cell_type": "code",
      "execution_count": 7,
      "metadata": {
        "colab": {
          "base_uri": "https://localhost:8080/"
        },
        "id": "4XH_gU11vdYH",
        "outputId": "fcfeb32d-418a-4625-e32a-f14577eefc29"
      },
      "outputs": [
        {
          "output_type": "stream",
          "name": "stdout",
          "text": [
            "{64, 34, 99, 5, 38, 9, 10, 21, 28, 29}\n"
          ]
        }
      ],
      "source": [
        "# Your code here\n",
        "set4 = (set2.difference(set1))\n",
        "\n",
        "print (set4)"
      ]
    },
    {
      "cell_type": "markdown",
      "metadata": {
        "id": "-PamcreCvdYI"
      },
      "source": [
        "#### Now Identify the elements shared between `set1` and `set2`. Assign the elements to a new set named `set5`."
      ]
    },
    {
      "cell_type": "code",
      "execution_count": 8,
      "metadata": {
        "colab": {
          "base_uri": "https://localhost:8080/"
        },
        "id": "aNZJcc32vdYI",
        "outputId": "79e976f7-d6c4-4006-c23d-42c5e80dcb0a"
      },
      "outputs": [
        {
          "output_type": "stream",
          "name": "stdout",
          "text": [
            "{2, 6, 8, 11, 12, 13, 15, 18, 20, 22, 23, 25, 26, 32, 37, 41, 42, 44, 45, 46, 48, 49, 50, 52, 54, 55, 58, 62, 63, 66, 68, 69, 71, 75, 78, 79, 80, 81, 82, 87, 93, 97}\n"
          ]
        }
      ],
      "source": [
        "# Your code here\n",
        "set5= set1.intersection(set2)\n",
        "\n",
        "print (set5)"
      ]
    },
    {
      "cell_type": "markdown",
      "metadata": {
        "id": "Yyr9LP8LvdYI"
      },
      "source": [
        "#### What is the relationship among the following values:\n",
        "\n",
        "* len(set1)\n",
        "* len(set2)\n",
        "* len(set3)\n",
        "* len(set4)\n",
        "* len(set5)\n",
        "\n",
        "Use a math formular to represent that relationship. Test your formular with Python code."
      ]
    },
    {
      "cell_type": "code",
      "execution_count": 9,
      "metadata": {
        "colab": {
          "base_uri": "https://localhost:8080/"
        },
        "id": "TdMcJwJ2vdYI",
        "outputId": "375d8b51-8e90-4e2e-8213-b5c890540d2c"
      },
      "outputs": [
        {
          "output_type": "execute_result",
          "data": {
            "text/plain": [
              "80"
            ]
          },
          "metadata": {},
          "execution_count": 9
        }
      ],
      "source": [
        "# Your code here\n",
        "len(set1)"
      ]
    },
    {
      "cell_type": "code",
      "source": [
        "len(set2)"
      ],
      "metadata": {
        "colab": {
          "base_uri": "https://localhost:8080/"
        },
        "id": "VLkRg11Q_s3n",
        "outputId": "a1a652ac-4a7f-4f3b-ea48-ced867b31258"
      },
      "execution_count": 10,
      "outputs": [
        {
          "output_type": "execute_result",
          "data": {
            "text/plain": [
              "52"
            ]
          },
          "metadata": {},
          "execution_count": 10
        }
      ]
    },
    {
      "cell_type": "code",
      "source": [
        "len(set3)"
      ],
      "metadata": {
        "colab": {
          "base_uri": "https://localhost:8080/"
        },
        "id": "Fz3SdW89_srv",
        "outputId": "45ffeaa5-bf13-4296-df30-66e71d278ac7"
      },
      "execution_count": 11,
      "outputs": [
        {
          "output_type": "execute_result",
          "data": {
            "text/plain": [
              "38"
            ]
          },
          "metadata": {},
          "execution_count": 11
        }
      ]
    },
    {
      "cell_type": "code",
      "source": [
        "len(set4)"
      ],
      "metadata": {
        "colab": {
          "base_uri": "https://localhost:8080/"
        },
        "id": "5TQHcjGt_siH",
        "outputId": "66a1f576-dc1d-4674-fba5-84a47a24c4f5"
      },
      "execution_count": 12,
      "outputs": [
        {
          "output_type": "execute_result",
          "data": {
            "text/plain": [
              "10"
            ]
          },
          "metadata": {},
          "execution_count": 12
        }
      ]
    },
    {
      "cell_type": "code",
      "source": [
        "len(set5)"
      ],
      "metadata": {
        "colab": {
          "base_uri": "https://localhost:8080/"
        },
        "id": "lEGl3lid_sYf",
        "outputId": "450ccd31-6027-4438-e4a5-2357091454d0"
      },
      "execution_count": 13,
      "outputs": [
        {
          "output_type": "execute_result",
          "data": {
            "text/plain": [
              "42"
            ]
          },
          "metadata": {},
          "execution_count": 13
        }
      ]
    },
    {
      "cell_type": "code",
      "source": [
        "len(set1) == len(set3) + len(set5)\n"
      ],
      "metadata": {
        "colab": {
          "base_uri": "https://localhost:8080/"
        },
        "id": "iesvjYS9ADzA",
        "outputId": "c70339a4-cb23-4984-a2cf-16e80c7c8359"
      },
      "execution_count": 14,
      "outputs": [
        {
          "output_type": "execute_result",
          "data": {
            "text/plain": [
              "True"
            ]
          },
          "metadata": {},
          "execution_count": 14
        }
      ]
    },
    {
      "cell_type": "code",
      "source": [
        "len(set5) == len(set2) - len(set4)"
      ],
      "metadata": {
        "colab": {
          "base_uri": "https://localhost:8080/"
        },
        "id": "poFlA9DrvEoM",
        "outputId": "cab00ec8-fe70-4b03-82dc-16698ecd5cbb"
      },
      "execution_count": 15,
      "outputs": [
        {
          "output_type": "execute_result",
          "data": {
            "text/plain": [
              "True"
            ]
          },
          "metadata": {},
          "execution_count": 15
        }
      ]
    },
    {
      "cell_type": "code",
      "source": [
        "len(set1) == (len(set2) - len(set4)) + len(set3)"
      ],
      "metadata": {
        "colab": {
          "base_uri": "https://localhost:8080/"
        },
        "id": "Da57CzbbvQFD",
        "outputId": "496da7cc-2233-4ac7-bc9b-5af2f7f23dfd"
      },
      "execution_count": 16,
      "outputs": [
        {
          "output_type": "execute_result",
          "data": {
            "text/plain": [
              "True"
            ]
          },
          "metadata": {},
          "execution_count": 16
        }
      ]
    },
    {
      "cell_type": "code",
      "source": [
        "#No sé si he entendido del todo bien el ejercicio, pero he representado las relaciones que he encontrado entre las longitudes de los sets. Pido corrección de esta parte por si no es lo que se pedía exactamente."
      ],
      "metadata": {
        "id": "y5lPgGn8wU6M"
      },
      "execution_count": 17,
      "outputs": []
    },
    {
      "cell_type": "markdown",
      "metadata": {
        "id": "n3eBUQ9avdYI"
      },
      "source": [
        "#### Create an empty set called `set6`."
      ]
    },
    {
      "cell_type": "code",
      "execution_count": 18,
      "metadata": {
        "colab": {
          "base_uri": "https://localhost:8080/"
        },
        "id": "quJ_1_0XvdYJ",
        "outputId": "58a856b7-3070-4d82-a0bf-39f2472901f6"
      },
      "outputs": [
        {
          "output_type": "execute_result",
          "data": {
            "text/plain": [
              "set"
            ]
          },
          "metadata": {},
          "execution_count": 18
        }
      ],
      "source": [
        "# Your code here\n",
        "set6= set()\n",
        "type (set6)"
      ]
    },
    {
      "cell_type": "markdown",
      "metadata": {
        "id": "SMxBPMtxvdYJ"
      },
      "source": [
        "#### Add `set3` and `set5` to `set6` using the Python Set `update` method."
      ]
    },
    {
      "cell_type": "code",
      "execution_count": 19,
      "metadata": {
        "colab": {
          "base_uri": "https://localhost:8080/"
        },
        "id": "ve-xWd08vdYJ",
        "outputId": "b61fbc2a-9cd4-465c-9bb1-5eba8bbfa700"
      },
      "outputs": [
        {
          "output_type": "execute_result",
          "data": {
            "text/plain": [
              "80"
            ]
          },
          "metadata": {},
          "execution_count": 19
        }
      ],
      "source": [
        "# Your code here\n",
        "set6.update(set3)\n",
        "set6.update(set5)\n",
        "\n",
        "len(set6)"
      ]
    },
    {
      "cell_type": "markdown",
      "metadata": {
        "id": "OZS7pZ4vvdYJ"
      },
      "source": [
        "#### Check if `set1` and `set6` are equal."
      ]
    },
    {
      "cell_type": "code",
      "execution_count": 20,
      "metadata": {
        "colab": {
          "base_uri": "https://localhost:8080/"
        },
        "id": "YG23WGUmvdYK",
        "outputId": "565d0dba-fc08-42e1-dfab-b226b9084e95"
      },
      "outputs": [
        {
          "output_type": "execute_result",
          "data": {
            "text/plain": [
              "True"
            ]
          },
          "metadata": {},
          "execution_count": 20
        }
      ],
      "source": [
        "# Your code here\n",
        "set1 == set6"
      ]
    },
    {
      "cell_type": "markdown",
      "metadata": {
        "id": "1yOFyQWIvdYK"
      },
      "source": [
        "#### Check if `set1` contains `set2` using the Python Set `issubset` method. Then check if `set1` contains `set3`.*"
      ]
    },
    {
      "cell_type": "code",
      "execution_count": 21,
      "metadata": {
        "colab": {
          "base_uri": "https://localhost:8080/"
        },
        "id": "OiEpscZxvdYK",
        "outputId": "fc056100-cefe-4a89-cc99-ca171f61bd7a"
      },
      "outputs": [
        {
          "output_type": "execute_result",
          "data": {
            "text/plain": [
              "False"
            ]
          },
          "metadata": {},
          "execution_count": 21
        }
      ],
      "source": [
        "# Your code here\n",
        "set2.issubset(set1)"
      ]
    },
    {
      "cell_type": "code",
      "source": [
        "set3.issubset(set1)"
      ],
      "metadata": {
        "colab": {
          "base_uri": "https://localhost:8080/"
        },
        "id": "AdKyRx60Baz0",
        "outputId": "599d29ff-89e1-470f-ca53-336be4dda853"
      },
      "execution_count": 22,
      "outputs": [
        {
          "output_type": "execute_result",
          "data": {
            "text/plain": [
              "True"
            ]
          },
          "metadata": {},
          "execution_count": 22
        }
      ]
    },
    {
      "cell_type": "markdown",
      "metadata": {
        "id": "iZdo-rbkvdYK"
      },
      "source": [
        "#### Using the Python Set `union` method, aggregate `set3`, `set4`, and `set5`. Then aggregate `set1` and `set2`. \n",
        "\n",
        "#### Check if the aggregated values are equal."
      ]
    },
    {
      "cell_type": "code",
      "execution_count": 23,
      "metadata": {
        "colab": {
          "base_uri": "https://localhost:8080/"
        },
        "id": "N2dBmBI_vdYK",
        "outputId": "b8391170-a35d-4327-cb6f-d99093f24158"
      },
      "outputs": [
        {
          "output_type": "execute_result",
          "data": {
            "text/plain": [
              "True"
            ]
          },
          "metadata": {},
          "execution_count": 23
        }
      ],
      "source": [
        "# Your code here\n",
        "union_sets_1 = set3.union(set4, set5)\n",
        "union_sets_2 = set1.union(set2)\n",
        "\n",
        "union_sets_1 == union_sets_2"
      ]
    },
    {
      "cell_type": "markdown",
      "metadata": {
        "id": "yqbMmo1yvdYK"
      },
      "source": [
        "#### Using the `pop` method, remove the first element from `set1`."
      ]
    },
    {
      "cell_type": "code",
      "execution_count": 24,
      "metadata": {
        "colab": {
          "base_uri": "https://localhost:8080/"
        },
        "id": "HxCUbZ_JvdYL",
        "outputId": "cd7e109f-5757-4fe6-806e-ad30c8f50fc1"
      },
      "outputs": [
        {
          "output_type": "execute_result",
          "data": {
            "text/plain": [
              "0"
            ]
          },
          "metadata": {},
          "execution_count": 24
        }
      ],
      "source": [
        "# Your code here\n",
        "lst1 = list(set1)\n",
        "lst1.pop(0)\n",
        "\n"
      ]
    },
    {
      "cell_type": "markdown",
      "metadata": {
        "id": "NC15c4dFvdYL"
      },
      "source": [
        "#### Remove every element in the following list from `set1` if they are present in the set. Print the remaining elements.\n",
        "\n",
        "```\n",
        "list_to_remove = [1, 9, 11, 19, 21, 29, 31, 39, 41, 49, 51, 59, 61, 69, 71, 79, 81, 89, 91, 99]\n",
        "```"
      ]
    },
    {
      "cell_type": "code",
      "execution_count": 31,
      "metadata": {
        "colab": {
          "base_uri": "https://localhost:8080/"
        },
        "id": "hdJ73Ml4vdYL",
        "outputId": "8e6b470f-5aa4-44d3-bb94-8d580c060271"
      },
      "outputs": [
        {
          "output_type": "stream",
          "name": "stdout",
          "text": [
            "{0, 2, 3, 4, 6, 8, 12, 13, 15, 16, 18, 20, 22, 23, 24, 25, 26, 27, 30, 32, 33, 35, 36, 37, 40, 42, 44, 45, 46, 47, 48, 50, 52, 53, 54, 55, 57, 58, 60, 62, 63, 65, 66, 67, 68, 70, 72, 74, 75, 77, 78, 80, 82, 84, 85, 86, 87, 90, 92, 93, 94, 95, 96, 97, 98}\n"
          ]
        }
      ],
      "source": [
        "# Your code here\n",
        "list_to_remove = [1, 9, 11, 19, 21, 29, 31, 39, 41, 49, 51, 59, 61, 69, 71, 79, 81, 89, 91, 99]\n",
        "\n",
        "for i in list_to_remove:\n",
        "  if i in set1:\n",
        "    set1.discard(i)\n",
        "\n",
        "print(set1)\n",
        "\n",
        "\n"
      ]
    }
  ],
  "metadata": {
    "kernelspec": {
      "display_name": "Python 3",
      "language": "python",
      "name": "python3"
    },
    "language_info": {
      "codemirror_mode": {
        "name": "ipython",
        "version": 3
      },
      "file_extension": ".py",
      "mimetype": "text/x-python",
      "name": "python",
      "nbconvert_exporter": "python",
      "pygments_lexer": "ipython3",
      "version": "3.7.2"
    },
    "colab": {
      "name": "challenge-2.ipynb",
      "provenance": []
    }
  },
  "nbformat": 4,
  "nbformat_minor": 0
}