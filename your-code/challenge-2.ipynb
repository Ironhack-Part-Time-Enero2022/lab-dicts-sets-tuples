{
  "cells": [
    {
      "cell_type": "markdown",
      "metadata": {
        "id": "G6SIE3GsvdYC"
      },
      "source": [
        "## Challenge 2: Sets\n",
        "\n",
        "There are a lot to learn about Python Sets and the information presented in the lesson is limited due to its length. To learn Python Sets in depth you are strongly encouraged to review the W3Schools tutorial on [Python Sets Examples and Methods](https://www.w3schools.com/python/python_sets.asp) before you work on this lab. Some difficult questions in this lab have their solutions in the W3Schools tutorial.\n",
        "\n",
        "#### First, import the Python `random` library."
      ]
    },
    {
      "cell_type": "code",
      "execution_count": 1,
      "metadata": {
        "id": "91AWCD00vdYE"
      },
      "outputs": [],
      "source": [
        "import random"
      ]
    },
    {
      "cell_type": "markdown",
      "metadata": {
        "id": "MU5Fmry4vdYF"
      },
      "source": [
        "#### In the cell below, create a list named `sample_list_1` with 80 random values. \n",
        "\n",
        "Requirements:\n",
        "\n",
        "* Each value is an integer falling between 0 and 100.\n",
        "* Each value in the list is unique.\n",
        "\n",
        "Print `sample_list_1` to review its values\n",
        "\n",
        "*Hint: use `random.sample` ([reference](https://docs.python.org/3/library/random.html#random.sample)).*"
      ]
    },
    {
      "cell_type": "code",
      "execution_count": 2,
      "metadata": {
        "colab": {
          "base_uri": "https://localhost:8080/"
        },
        "id": "sn2_nHYrvdYF",
        "outputId": "d9aa9167-1eb1-4d6a-f56d-b870f532cfb9"
      },
      "outputs": [
        {
          "output_type": "stream",
          "name": "stdout",
          "text": [
            "[56, 90, 89, 1, 78, 92, 14, 66, 79, 77, 52, 10, 13, 27, 45, 83, 36, 73, 88, 65, 17, 68, 54, 50, 11, 48, 69, 85, 40, 19, 82, 57, 38, 80, 39, 12, 28, 29, 26, 25, 98, 75, 93, 67, 87, 16, 41, 44, 7, 30, 18, 63, 60, 96, 8, 21, 62, 94, 2, 9, 22, 55, 91, 61, 59, 4, 58, 15, 49, 43, 72, 51, 20, 71, 0, 53, 64, 6, 32, 70]\n"
          ]
        }
      ],
      "source": [
        "# Your code here\n",
        "sample_list_1 = random.sample(range(0, 100), 80)\n",
        "print (sample_list_1)"
      ]
    },
    {
      "cell_type": "markdown",
      "metadata": {
        "id": "ggwWxcjOvdYF"
      },
      "source": [
        "#### Convert `sample_list_1` to a set called `set1`. Print the length of the set. Is its length still 80?"
      ]
    },
    {
      "cell_type": "code",
      "execution_count": 3,
      "metadata": {
        "colab": {
          "base_uri": "https://localhost:8080/"
        },
        "id": "C3mi-83QvdYG",
        "outputId": "23d5e7cb-bd8a-496e-bb40-08f779d1e989"
      },
      "outputs": [
        {
          "output_type": "stream",
          "name": "stdout",
          "text": [
            "80\n"
          ]
        }
      ],
      "source": [
        "# Your code here\n",
        "set1 = set(sample_list_1)\n",
        "print (len(set1))"
      ]
    },
    {
      "cell_type": "markdown",
      "metadata": {
        "id": "Fo0EdCs8vdYG"
      },
      "source": [
        "#### Create another list named `sample_list_2` with 80 random values.\n",
        "\n",
        "Requirements:\n",
        "\n",
        "* Each value is an integer falling between 0 and 100.\n",
        "* The values in the list don't have to be unique.\n",
        "\n",
        "*Hint: Use a FOR loop.*"
      ]
    },
    {
      "cell_type": "code",
      "execution_count": 4,
      "metadata": {
        "colab": {
          "base_uri": "https://localhost:8080/"
        },
        "id": "u5LYH3BcvdYG",
        "outputId": "05fdd8bf-9806-4f66-901e-6d2a6d5ae4fa"
      },
      "outputs": [
        {
          "output_type": "stream",
          "name": "stdout",
          "text": [
            "[91, 1, 57, 34, 52, 51, 6, 4, 5, 69, 44, 80, 7, 69, 13, 89, 17, 65, 59, 45, 37, 5, 76, 4, 16, 40, 19, 31, 8, 64, 57, 37, 53, 36, 94, 19, 82, 66, 1, 56, 0, 0, 0, 79, 10, 38, 28, 68, 83, 99, 18, 34, 67, 76, 43, 77, 62, 25, 58, 84, 50, 46, 53, 21, 83, 88, 0, 78, 91, 39, 29, 99, 49, 72, 69, 83, 20, 89, 58, 62]\n"
          ]
        }
      ],
      "source": [
        "# Your code here\n",
        "sample_list_2 = []\n",
        "\n",
        "for (i) in sample_list_1:\n",
        "  sample_list_2.append(random.randrange(0, 100))\n",
        "\n",
        "print (sample_list_2)\n",
        "  "
      ]
    },
    {
      "cell_type": "markdown",
      "metadata": {
        "id": "P4RWWzv8vdYG"
      },
      "source": [
        "#### Convert `sample_list_2` to a set called `set2`. Print the length of the set. Is its length still 80?"
      ]
    },
    {
      "cell_type": "code",
      "execution_count": 5,
      "metadata": {
        "colab": {
          "base_uri": "https://localhost:8080/"
        },
        "id": "bGXdP-iuvdYH",
        "outputId": "24c8e631-3e68-45b7-d712-56e675f96614"
      },
      "outputs": [
        {
          "output_type": "execute_result",
          "data": {
            "text/plain": [
              "59"
            ]
          },
          "metadata": {},
          "execution_count": 5
        }
      ],
      "source": [
        "# Your code here\n",
        "set2 = set(sample_list_2)\n",
        "len(set2)"
      ]
    },
    {
      "cell_type": "markdown",
      "metadata": {
        "id": "HIDaq9FcvdYH"
      },
      "source": [
        "#### Identify the elements present in `set1` but not in `set2`. Assign the elements to a new set named `set3`."
      ]
    },
    {
      "cell_type": "code",
      "execution_count": 6,
      "metadata": {
        "colab": {
          "base_uri": "https://localhost:8080/"
        },
        "id": "-SL7rptjvdYH",
        "outputId": "240ce06f-fcf0-4b37-f1c4-cbfce4bee0ab"
      },
      "outputs": [
        {
          "output_type": "stream",
          "name": "stdout",
          "text": [
            "{2, 9, 11, 12, 14, 15, 22, 26, 27, 30, 32, 41, 48, 54, 55, 60, 61, 63, 70, 71, 73, 75, 85, 87, 90, 92, 93, 96, 98}\n"
          ]
        }
      ],
      "source": [
        "# Your code here\n",
        "set3 = (set1.difference(set2))\n",
        "\n",
        "print (set3)"
      ]
    },
    {
      "cell_type": "markdown",
      "metadata": {
        "id": "alZpVb2mvdYH"
      },
      "source": [
        "#### Identify the elements present in `set2` but not in `set1`. Assign the elements to a new set named `set4`."
      ]
    },
    {
      "cell_type": "code",
      "execution_count": 7,
      "metadata": {
        "colab": {
          "base_uri": "https://localhost:8080/"
        },
        "id": "4XH_gU11vdYH",
        "outputId": "63da5fe6-a591-4504-982c-d0b793a1ee5a"
      },
      "outputs": [
        {
          "output_type": "stream",
          "name": "stdout",
          "text": [
            "{34, 99, 37, 5, 76, 46, 84, 31}\n"
          ]
        }
      ],
      "source": [
        "# Your code here\n",
        "set4 = (set2.difference(set1))\n",
        "\n",
        "print (set4)"
      ]
    },
    {
      "cell_type": "markdown",
      "metadata": {
        "id": "-PamcreCvdYI"
      },
      "source": [
        "#### Now Identify the elements shared between `set1` and `set2`. Assign the elements to a new set named `set5`."
      ]
    },
    {
      "cell_type": "code",
      "execution_count": 8,
      "metadata": {
        "colab": {
          "base_uri": "https://localhost:8080/"
        },
        "id": "aNZJcc32vdYI",
        "outputId": "27e0cab1-a73e-42ec-de54-44e722903307"
      },
      "outputs": [
        {
          "output_type": "stream",
          "name": "stdout",
          "text": [
            "{0, 1, 4, 6, 7, 8, 10, 13, 16, 17, 18, 19, 20, 21, 25, 28, 29, 36, 38, 39, 40, 43, 44, 45, 49, 50, 51, 52, 53, 56, 57, 58, 59, 62, 64, 65, 66, 67, 68, 69, 72, 77, 78, 79, 80, 82, 83, 88, 89, 91, 94}\n"
          ]
        }
      ],
      "source": [
        "# Your code here\n",
        "set5= set1.intersection(set2)\n",
        "\n",
        "print (set5)"
      ]
    },
    {
      "cell_type": "markdown",
      "metadata": {
        "id": "Yyr9LP8LvdYI"
      },
      "source": [
        "#### What is the relationship among the following values:\n",
        "\n",
        "* len(set1)\n",
        "* len(set2)\n",
        "* len(set3)\n",
        "* len(set4)\n",
        "* len(set5)\n",
        "\n",
        "Use a math formular to represent that relationship. Test your formular with Python code."
      ]
    },
    {
      "cell_type": "code",
      "execution_count": 9,
      "metadata": {
        "colab": {
          "base_uri": "https://localhost:8080/"
        },
        "id": "TdMcJwJ2vdYI",
        "outputId": "2e691a8d-c908-4ed7-dbe0-d03cfa51b509"
      },
      "outputs": [
        {
          "output_type": "execute_result",
          "data": {
            "text/plain": [
              "80"
            ]
          },
          "metadata": {},
          "execution_count": 9
        }
      ],
      "source": [
        "# Your code here\n",
        "len(set1)"
      ]
    },
    {
      "cell_type": "code",
      "source": [
        "len(set2)"
      ],
      "metadata": {
        "colab": {
          "base_uri": "https://localhost:8080/"
        },
        "id": "VLkRg11Q_s3n",
        "outputId": "1e2589ef-5bd9-4932-eab9-37217fa38407"
      },
      "execution_count": 10,
      "outputs": [
        {
          "output_type": "execute_result",
          "data": {
            "text/plain": [
              "59"
            ]
          },
          "metadata": {},
          "execution_count": 10
        }
      ]
    },
    {
      "cell_type": "code",
      "source": [
        "len(set3)"
      ],
      "metadata": {
        "colab": {
          "base_uri": "https://localhost:8080/"
        },
        "id": "Fz3SdW89_srv",
        "outputId": "0c5f96c2-52c9-4427-afd0-e1b94a8d2533"
      },
      "execution_count": 11,
      "outputs": [
        {
          "output_type": "execute_result",
          "data": {
            "text/plain": [
              "29"
            ]
          },
          "metadata": {},
          "execution_count": 11
        }
      ]
    },
    {
      "cell_type": "code",
      "source": [
        "len(set4)"
      ],
      "metadata": {
        "colab": {
          "base_uri": "https://localhost:8080/"
        },
        "id": "5TQHcjGt_siH",
        "outputId": "866a0b77-93b3-4554-d121-bacbf0e1d37e"
      },
      "execution_count": 12,
      "outputs": [
        {
          "output_type": "execute_result",
          "data": {
            "text/plain": [
              "8"
            ]
          },
          "metadata": {},
          "execution_count": 12
        }
      ]
    },
    {
      "cell_type": "code",
      "source": [
        "len(set5)"
      ],
      "metadata": {
        "colab": {
          "base_uri": "https://localhost:8080/"
        },
        "id": "lEGl3lid_sYf",
        "outputId": "d3b9de87-1773-47af-c20c-acbdaffead56"
      },
      "execution_count": 13,
      "outputs": [
        {
          "output_type": "execute_result",
          "data": {
            "text/plain": [
              "51"
            ]
          },
          "metadata": {},
          "execution_count": 13
        }
      ]
    },
    {
      "cell_type": "code",
      "source": [
        "#Creo que no entiendo lo que se pide en este ejercicio, puedo importar la libería math, pero desconozco la relación entre estos valores o cómo calcularla "
      ],
      "metadata": {
        "id": "EPzMNv9s_2d5"
      },
      "execution_count": 14,
      "outputs": []
    },
    {
      "cell_type": "code",
      "source": [
        "import math\n"
      ],
      "metadata": {
        "id": "iesvjYS9ADzA"
      },
      "execution_count": 15,
      "outputs": []
    },
    {
      "cell_type": "markdown",
      "metadata": {
        "id": "n3eBUQ9avdYI"
      },
      "source": [
        "#### Create an empty set called `set6`."
      ]
    },
    {
      "cell_type": "code",
      "execution_count": 16,
      "metadata": {
        "colab": {
          "base_uri": "https://localhost:8080/"
        },
        "id": "quJ_1_0XvdYJ",
        "outputId": "f24f4612-7256-49a9-ffec-df2b544fcbab"
      },
      "outputs": [
        {
          "output_type": "execute_result",
          "data": {
            "text/plain": [
              "set"
            ]
          },
          "metadata": {},
          "execution_count": 16
        }
      ],
      "source": [
        "# Your code here\n",
        "set6= set()\n",
        "type (set6)"
      ]
    },
    {
      "cell_type": "markdown",
      "metadata": {
        "id": "SMxBPMtxvdYJ"
      },
      "source": [
        "#### Add `set3` and `set5` to `set6` using the Python Set `update` method."
      ]
    },
    {
      "cell_type": "code",
      "execution_count": 24,
      "metadata": {
        "colab": {
          "base_uri": "https://localhost:8080/"
        },
        "id": "ve-xWd08vdYJ",
        "outputId": "4d544f22-ad99-4a0a-8f81-ad49fe4a036a"
      },
      "outputs": [
        {
          "output_type": "execute_result",
          "data": {
            "text/plain": [
              "80"
            ]
          },
          "metadata": {},
          "execution_count": 24
        }
      ],
      "source": [
        "# Your code here\n",
        "set6.update(set3)\n",
        "set6.update(set5)\n",
        "\n",
        "len(set6)"
      ]
    },
    {
      "cell_type": "markdown",
      "metadata": {
        "id": "OZS7pZ4vvdYJ"
      },
      "source": [
        "#### Check if `set1` and `set6` are equal."
      ]
    },
    {
      "cell_type": "code",
      "execution_count": 25,
      "metadata": {
        "colab": {
          "base_uri": "https://localhost:8080/"
        },
        "id": "YG23WGUmvdYK",
        "outputId": "9a3261cd-a79a-4e2b-fd29-a8c1c16e2047"
      },
      "outputs": [
        {
          "output_type": "execute_result",
          "data": {
            "text/plain": [
              "True"
            ]
          },
          "metadata": {},
          "execution_count": 25
        }
      ],
      "source": [
        "# Your code here\n",
        "set1 == set6"
      ]
    },
    {
      "cell_type": "markdown",
      "metadata": {
        "id": "1yOFyQWIvdYK"
      },
      "source": [
        "#### Check if `set1` contains `set2` using the Python Set `issubset` method. Then check if `set1` contains `set3`.*"
      ]
    },
    {
      "cell_type": "code",
      "execution_count": 28,
      "metadata": {
        "colab": {
          "base_uri": "https://localhost:8080/"
        },
        "id": "OiEpscZxvdYK",
        "outputId": "5da1c071-0fb0-4f7c-d7f5-7d5bb75a5d71"
      },
      "outputs": [
        {
          "output_type": "execute_result",
          "data": {
            "text/plain": [
              "False"
            ]
          },
          "metadata": {},
          "execution_count": 28
        }
      ],
      "source": [
        "# Your code here\n",
        "set2.issubset(set1)"
      ]
    },
    {
      "cell_type": "code",
      "source": [
        "set3.issubset(set1)"
      ],
      "metadata": {
        "colab": {
          "base_uri": "https://localhost:8080/"
        },
        "id": "AdKyRx60Baz0",
        "outputId": "06394d4e-d9e6-4566-e57a-2604af47e4c3"
      },
      "execution_count": 29,
      "outputs": [
        {
          "output_type": "execute_result",
          "data": {
            "text/plain": [
              "True"
            ]
          },
          "metadata": {},
          "execution_count": 29
        }
      ]
    },
    {
      "cell_type": "markdown",
      "metadata": {
        "id": "iZdo-rbkvdYK"
      },
      "source": [
        "#### Using the Python Set `union` method, aggregate `set3`, `set4`, and `set5`. Then aggregate `set1` and `set2`. \n",
        "\n",
        "#### Check if the aggregated values are equal."
      ]
    },
    {
      "cell_type": "code",
      "execution_count": 32,
      "metadata": {
        "colab": {
          "base_uri": "https://localhost:8080/"
        },
        "id": "N2dBmBI_vdYK",
        "outputId": "4decfb15-a3a5-41ee-e42d-2a647cbe8c30"
      },
      "outputs": [
        {
          "output_type": "execute_result",
          "data": {
            "text/plain": [
              "True"
            ]
          },
          "metadata": {},
          "execution_count": 32
        }
      ],
      "source": [
        "# Your code here\n",
        "union_sets_1 = set3.union(set4, set5)\n",
        "union_sets_2 = set1.union(set2)\n",
        "\n",
        "union_sets_1 == union_sets_2"
      ]
    },
    {
      "cell_type": "markdown",
      "metadata": {
        "id": "yqbMmo1yvdYK"
      },
      "source": [
        "#### Using the `pop` method, remove the first element from `set1`."
      ]
    },
    {
      "cell_type": "code",
      "execution_count": 39,
      "metadata": {
        "colab": {
          "base_uri": "https://localhost:8080/"
        },
        "id": "HxCUbZ_JvdYL",
        "outputId": "73a4a614-0e25-4df3-ee65-c27673700588"
      },
      "outputs": [
        {
          "output_type": "stream",
          "name": "stdout",
          "text": [
            "{2, 4, 6, 7, 8, 9, 10, 11, 12, 13, 14, 15, 16, 17, 18, 19, 20, 21, 22, 25, 26, 27, 28, 29, 30, 32, 36, 38, 39, 40, 41, 43, 44, 45, 48, 49, 50, 51, 52, 53, 54, 55, 56, 57, 58, 59, 60, 61, 62, 63, 64, 65, 66, 67, 68, 69, 70, 71, 72, 73, 75, 77, 78, 79, 80, 82, 83, 85, 87, 88, 89, 90, 91, 92, 93, 94, 96, 98}\n"
          ]
        }
      ],
      "source": [
        "# Your code here\n",
        "lst1 = list(set1)\n",
        "lst1.pop(0)\n",
        "\n"
      ]
    },
    {
      "cell_type": "markdown",
      "metadata": {
        "id": "NC15c4dFvdYL"
      },
      "source": [
        "#### Remove every element in the following list from `set1` if they are present in the set. Print the remaining elements.\n",
        "\n",
        "```\n",
        "list_to_remove = [1, 9, 11, 19, 21, 29, 31, 39, 41, 49, 51, 59, 61, 69, 71, 79, 81, 89, 91, 99]\n",
        "```"
      ]
    },
    {
      "cell_type": "code",
      "execution_count": 49,
      "metadata": {
        "colab": {
          "base_uri": "https://localhost:8080/",
          "height": 235
        },
        "id": "hdJ73Ml4vdYL",
        "outputId": "f4843f73-5a3a-4462-fe88-45f69ac05aaf"
      },
      "outputs": [
        {
          "output_type": "error",
          "ename": "RuntimeError",
          "evalue": "ignored",
          "traceback": [
            "\u001b[0;31m---------------------------------------------------------------------------\u001b[0m",
            "\u001b[0;31mRuntimeError\u001b[0m                              Traceback (most recent call last)",
            "\u001b[0;32m<ipython-input-49-ee74ec7f9acb>\u001b[0m in \u001b[0;36m<module>\u001b[0;34m()\u001b[0m\n\u001b[1;32m      2\u001b[0m \u001b[0mlist_to_remove\u001b[0m \u001b[0;34m=\u001b[0m \u001b[0;34m[\u001b[0m\u001b[0;36m1\u001b[0m\u001b[0;34m,\u001b[0m \u001b[0;36m9\u001b[0m\u001b[0;34m,\u001b[0m \u001b[0;36m11\u001b[0m\u001b[0;34m,\u001b[0m \u001b[0;36m19\u001b[0m\u001b[0;34m,\u001b[0m \u001b[0;36m21\u001b[0m\u001b[0;34m,\u001b[0m \u001b[0;36m29\u001b[0m\u001b[0;34m,\u001b[0m \u001b[0;36m31\u001b[0m\u001b[0;34m,\u001b[0m \u001b[0;36m39\u001b[0m\u001b[0;34m,\u001b[0m \u001b[0;36m41\u001b[0m\u001b[0;34m,\u001b[0m \u001b[0;36m49\u001b[0m\u001b[0;34m,\u001b[0m \u001b[0;36m51\u001b[0m\u001b[0;34m,\u001b[0m \u001b[0;36m59\u001b[0m\u001b[0;34m,\u001b[0m \u001b[0;36m61\u001b[0m\u001b[0;34m,\u001b[0m \u001b[0;36m69\u001b[0m\u001b[0;34m,\u001b[0m \u001b[0;36m71\u001b[0m\u001b[0;34m,\u001b[0m \u001b[0;36m79\u001b[0m\u001b[0;34m,\u001b[0m \u001b[0;36m81\u001b[0m\u001b[0;34m,\u001b[0m \u001b[0;36m89\u001b[0m\u001b[0;34m,\u001b[0m \u001b[0;36m91\u001b[0m\u001b[0;34m,\u001b[0m \u001b[0;36m99\u001b[0m\u001b[0;34m]\u001b[0m\u001b[0;34m\u001b[0m\u001b[0;34m\u001b[0m\u001b[0m\n\u001b[1;32m      3\u001b[0m \u001b[0;34m\u001b[0m\u001b[0m\n\u001b[0;32m----> 4\u001b[0;31m \u001b[0;32mfor\u001b[0m \u001b[0;34m(\u001b[0m\u001b[0mi\u001b[0m\u001b[0;34m)\u001b[0m \u001b[0;32min\u001b[0m \u001b[0mset1\u001b[0m\u001b[0;34m:\u001b[0m\u001b[0;34m\u001b[0m\u001b[0;34m\u001b[0m\u001b[0m\n\u001b[0m\u001b[1;32m      5\u001b[0m   \u001b[0;32mif\u001b[0m \u001b[0;34m(\u001b[0m\u001b[0mi\u001b[0m\u001b[0;34m)\u001b[0m \u001b[0;32min\u001b[0m \u001b[0mlist_to_remove\u001b[0m\u001b[0;34m:\u001b[0m\u001b[0;34m\u001b[0m\u001b[0;34m\u001b[0m\u001b[0m\n\u001b[1;32m      6\u001b[0m     \u001b[0mset1\u001b[0m\u001b[0;34m.\u001b[0m\u001b[0mdiscard\u001b[0m\u001b[0;34m(\u001b[0m\u001b[0mi\u001b[0m\u001b[0;34m)\u001b[0m\u001b[0;34m\u001b[0m\u001b[0;34m\u001b[0m\u001b[0m\n",
            "\u001b[0;31mRuntimeError\u001b[0m: Set changed size during iteration"
          ]
        }
      ],
      "source": [
        "# Your code here\n",
        "list_to_remove = [1, 9, 11, 19, 21, 29, 31, 39, 41, 49, 51, 59, 61, 69, 71, 79, 81, 89, 91, 99]\n",
        "\n",
        "for (i) in set1:\n",
        "  if (i) in list_to_remove:\n",
        "    set1.discard(i)\n",
        "\n",
        "print(set1) \n",
        "\n",
        "\n",
        "#Tiene sentido el error dado que el rango del set va cambiando conforme se va ejecutando el loop, pero no sé cómo solucionarlo. Lo he intentado con lst1, para popear el element(i) de la lista y luego convertir la lista en set, pero me devuelve que la definición no es correcta."
      ]
    }
  ],
  "metadata": {
    "kernelspec": {
      "display_name": "Python 3",
      "language": "python",
      "name": "python3"
    },
    "language_info": {
      "codemirror_mode": {
        "name": "ipython",
        "version": 3
      },
      "file_extension": ".py",
      "mimetype": "text/x-python",
      "name": "python",
      "nbconvert_exporter": "python",
      "pygments_lexer": "ipython3",
      "version": "3.7.2"
    },
    "colab": {
      "name": "challenge-2.ipynb",
      "provenance": []
    }
  },
  "nbformat": 4,
  "nbformat_minor": 0
}