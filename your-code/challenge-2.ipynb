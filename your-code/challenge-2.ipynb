{
  "cells": [
    {
      "cell_type": "markdown",
      "metadata": {
        "id": "G6SIE3GsvdYC"
      },
      "source": [
        "## Challenge 2: Sets\n",
        "\n",
        "There are a lot to learn about Python Sets and the information presented in the lesson is limited due to its length. To learn Python Sets in depth you are strongly encouraged to review the W3Schools tutorial on [Python Sets Examples and Methods](https://www.w3schools.com/python/python_sets.asp) before you work on this lab. Some difficult questions in this lab have their solutions in the W3Schools tutorial.\n",
        "\n",
        "#### First, import the Python `random` library."
      ]
    },
    {
      "cell_type": "code",
      "execution_count": 1,
      "metadata": {
        "id": "91AWCD00vdYE"
      },
      "outputs": [],
      "source": [
        "import random"
      ]
    },
    {
      "cell_type": "markdown",
      "metadata": {
        "id": "MU5Fmry4vdYF"
      },
      "source": [
        "#### In the cell below, create a list named `sample_list_1` with 80 random values. \n",
        "\n",
        "Requirements:\n",
        "\n",
        "* Each value is an integer falling between 0 and 100.\n",
        "* Each value in the list is unique.\n",
        "\n",
        "Print `sample_list_1` to review its values\n",
        "\n",
        "*Hint: use `random.sample` ([reference](https://docs.python.org/3/library/random.html#random.sample)).*"
      ]
    },
    {
      "cell_type": "code",
      "execution_count": 2,
      "metadata": {
        "colab": {
          "base_uri": "https://localhost:8080/"
        },
        "id": "sn2_nHYrvdYF",
        "outputId": "85646c93-c6ae-4b3a-f80f-98783c0c5b2b"
      },
      "outputs": [
        {
          "output_type": "stream",
          "name": "stdout",
          "text": [
            "[89, 60, 70, 56, 25, 97, 6, 35, 77, 57, 28, 87, 52, 90, 49, 14, 84, 43, 21, 91, 44, 5, 96, 74, 69, 68, 93, 24, 11, 30, 7, 3, 26, 48, 53, 9, 46, 66, 62, 13, 36, 95, 33, 61, 47, 92, 17, 63, 27, 16, 42, 4, 38, 78, 88, 20, 82, 58, 23, 29, 41, 22, 0, 75, 8, 15, 94, 45, 55, 76, 10, 12, 81, 67, 2, 1, 72, 99, 51, 83]\n"
          ]
        }
      ],
      "source": [
        "# Your code here\n",
        "sample_list_1 = random.sample(range(0, 100), 80)\n",
        "print (sample_list_1)"
      ]
    },
    {
      "cell_type": "markdown",
      "metadata": {
        "id": "ggwWxcjOvdYF"
      },
      "source": [
        "#### Convert `sample_list_1` to a set called `set1`. Print the length of the set. Is its length still 80?"
      ]
    },
    {
      "cell_type": "code",
      "execution_count": 3,
      "metadata": {
        "colab": {
          "base_uri": "https://localhost:8080/"
        },
        "id": "C3mi-83QvdYG",
        "outputId": "08bb3dca-b926-4316-c925-20baabd29604"
      },
      "outputs": [
        {
          "output_type": "stream",
          "name": "stdout",
          "text": [
            "80\n"
          ]
        }
      ],
      "source": [
        "# Your code here\n",
        "set1 = set(sample_list_1)\n",
        "print (len(set1))"
      ]
    },
    {
      "cell_type": "markdown",
      "metadata": {
        "id": "Fo0EdCs8vdYG"
      },
      "source": [
        "#### Create another list named `sample_list_2` with 80 random values.\n",
        "\n",
        "Requirements:\n",
        "\n",
        "* Each value is an integer falling between 0 and 100.\n",
        "* The values in the list don't have to be unique.\n",
        "\n",
        "*Hint: Use a FOR loop.*"
      ]
    },
    {
      "cell_type": "code",
      "execution_count": 4,
      "metadata": {
        "colab": {
          "base_uri": "https://localhost:8080/"
        },
        "id": "u5LYH3BcvdYG",
        "outputId": "a97f2e8c-01bb-466b-ac08-24b170ea1952"
      },
      "outputs": [
        {
          "output_type": "stream",
          "name": "stdout",
          "text": [
            "[69, 52, 84, 25, 3, 97, 99, 95, 81, 70, 71, 56, 18, 15, 57, 66, 59, 59, 24, 39, 28, 79, 57, 32, 88, 68, 58, 70, 91, 89, 3, 5, 99, 95, 23, 99, 35, 23, 10, 44, 94, 2, 98, 8, 70, 4, 19, 86, 39, 69, 77, 92, 75, 42, 31, 39, 65, 64, 58, 52, 3, 82, 47, 8, 15, 69, 87, 11, 51, 82, 21, 78, 75, 2, 39, 69, 79, 4, 96, 71]\n"
          ]
        }
      ],
      "source": [
        "# Your code here\n",
        "sample_list_2 = []\n",
        "\n",
        "for (i) in sample_list_1:\n",
        "  sample_list_2.append(random.randrange(0, 100))\n",
        "\n",
        "print (sample_list_2)\n",
        "  "
      ]
    },
    {
      "cell_type": "markdown",
      "metadata": {
        "id": "P4RWWzv8vdYG"
      },
      "source": [
        "#### Convert `sample_list_2` to a set called `set2`. Print the length of the set. Is its length still 80?"
      ]
    },
    {
      "cell_type": "code",
      "execution_count": 5,
      "metadata": {
        "colab": {
          "base_uri": "https://localhost:8080/"
        },
        "id": "bGXdP-iuvdYH",
        "outputId": "a0822a1f-3a23-4965-ab00-a577cfa6574a"
      },
      "outputs": [
        {
          "output_type": "execute_result",
          "data": {
            "text/plain": [
              "54"
            ]
          },
          "metadata": {},
          "execution_count": 5
        }
      ],
      "source": [
        "# Your code here\n",
        "set2 = set(sample_list_2)\n",
        "len(set2)"
      ]
    },
    {
      "cell_type": "markdown",
      "metadata": {
        "id": "HIDaq9FcvdYH"
      },
      "source": [
        "#### Identify the elements present in `set1` but not in `set2`. Assign the elements to a new set named `set3`."
      ]
    },
    {
      "cell_type": "code",
      "execution_count": 6,
      "metadata": {
        "colab": {
          "base_uri": "https://localhost:8080/"
        },
        "id": "-SL7rptjvdYH",
        "outputId": "5853c812-c05f-4309-d868-491556a35735"
      },
      "outputs": [
        {
          "output_type": "stream",
          "name": "stdout",
          "text": [
            "{0, 1, 6, 7, 9, 12, 13, 14, 16, 17, 20, 22, 26, 27, 29, 30, 33, 36, 38, 41, 43, 45, 46, 48, 49, 53, 55, 60, 61, 62, 63, 67, 72, 74, 76, 83, 90, 93}\n"
          ]
        }
      ],
      "source": [
        "# Your code here\n",
        "set3 = (set1.difference(set2))\n",
        "\n",
        "print (set3)"
      ]
    },
    {
      "cell_type": "markdown",
      "metadata": {
        "id": "alZpVb2mvdYH"
      },
      "source": [
        "#### Identify the elements present in `set2` but not in `set1`. Assign the elements to a new set named `set4`."
      ]
    },
    {
      "cell_type": "code",
      "execution_count": 7,
      "metadata": {
        "colab": {
          "base_uri": "https://localhost:8080/"
        },
        "id": "4XH_gU11vdYH",
        "outputId": "6e9215d7-dbe5-4bc8-f68b-69bb77f6afd8"
      },
      "outputs": [
        {
          "output_type": "stream",
          "name": "stdout",
          "text": [
            "{32, 64, 65, 98, 39, 71, 79, 18, 19, 86, 59, 31}\n"
          ]
        }
      ],
      "source": [
        "# Your code here\n",
        "set4 = (set2.difference(set1))\n",
        "\n",
        "print (set4)"
      ]
    },
    {
      "cell_type": "markdown",
      "metadata": {
        "id": "-PamcreCvdYI"
      },
      "source": [
        "#### Now Identify the elements shared between `set1` and `set2`. Assign the elements to a new set named `set5`."
      ]
    },
    {
      "cell_type": "code",
      "execution_count": 8,
      "metadata": {
        "colab": {
          "base_uri": "https://localhost:8080/"
        },
        "id": "aNZJcc32vdYI",
        "outputId": "0fce1759-7454-4119-9fa6-166af63e24c4"
      },
      "outputs": [
        {
          "output_type": "stream",
          "name": "stdout",
          "text": [
            "{2, 3, 4, 5, 8, 10, 11, 15, 21, 23, 24, 25, 28, 35, 42, 44, 47, 51, 52, 56, 57, 58, 66, 68, 69, 70, 75, 77, 78, 81, 82, 84, 87, 88, 89, 91, 92, 94, 95, 96, 97, 99}\n"
          ]
        }
      ],
      "source": [
        "# Your code here\n",
        "set5= set1.intersection(set2)\n",
        "\n",
        "print (set5)"
      ]
    },
    {
      "cell_type": "markdown",
      "metadata": {
        "id": "Yyr9LP8LvdYI"
      },
      "source": [
        "#### What is the relationship among the following values:\n",
        "\n",
        "* len(set1)\n",
        "* len(set2)\n",
        "* len(set3)\n",
        "* len(set4)\n",
        "* len(set5)\n",
        "\n",
        "Use a math formular to represent that relationship. Test your formular with Python code."
      ]
    },
    {
      "cell_type": "code",
      "execution_count": 9,
      "metadata": {
        "colab": {
          "base_uri": "https://localhost:8080/"
        },
        "id": "TdMcJwJ2vdYI",
        "outputId": "85751c21-de5f-449d-e739-a2722944e876"
      },
      "outputs": [
        {
          "output_type": "execute_result",
          "data": {
            "text/plain": [
              "80"
            ]
          },
          "metadata": {},
          "execution_count": 9
        }
      ],
      "source": [
        "# Your code here\n",
        "len(set1)"
      ]
    },
    {
      "cell_type": "code",
      "source": [
        "len(set2)"
      ],
      "metadata": {
        "colab": {
          "base_uri": "https://localhost:8080/"
        },
        "id": "VLkRg11Q_s3n",
        "outputId": "8999c327-c263-43e6-cf16-6481ec6aedf2"
      },
      "execution_count": 10,
      "outputs": [
        {
          "output_type": "execute_result",
          "data": {
            "text/plain": [
              "54"
            ]
          },
          "metadata": {},
          "execution_count": 10
        }
      ]
    },
    {
      "cell_type": "code",
      "source": [
        "len(set3)"
      ],
      "metadata": {
        "colab": {
          "base_uri": "https://localhost:8080/"
        },
        "id": "Fz3SdW89_srv",
        "outputId": "30119ad4-392b-4e42-d5b7-2e6bcfb9f565"
      },
      "execution_count": 11,
      "outputs": [
        {
          "output_type": "execute_result",
          "data": {
            "text/plain": [
              "38"
            ]
          },
          "metadata": {},
          "execution_count": 11
        }
      ]
    },
    {
      "cell_type": "code",
      "source": [
        "len(set4)"
      ],
      "metadata": {
        "colab": {
          "base_uri": "https://localhost:8080/"
        },
        "id": "5TQHcjGt_siH",
        "outputId": "e5a78023-6f7a-42a1-ad97-8472e30a7043"
      },
      "execution_count": 12,
      "outputs": [
        {
          "output_type": "execute_result",
          "data": {
            "text/plain": [
              "12"
            ]
          },
          "metadata": {},
          "execution_count": 12
        }
      ]
    },
    {
      "cell_type": "code",
      "source": [
        "len(set5)"
      ],
      "metadata": {
        "colab": {
          "base_uri": "https://localhost:8080/"
        },
        "id": "lEGl3lid_sYf",
        "outputId": "6d32f686-4810-477a-cca7-8fe05b5ca2ef"
      },
      "execution_count": 13,
      "outputs": [
        {
          "output_type": "execute_result",
          "data": {
            "text/plain": [
              "42"
            ]
          },
          "metadata": {},
          "execution_count": 13
        }
      ]
    },
    {
      "cell_type": "code",
      "source": [
        "len(set1) == len(set3) + len(set5)\n"
      ],
      "metadata": {
        "colab": {
          "base_uri": "https://localhost:8080/"
        },
        "id": "iesvjYS9ADzA",
        "outputId": "abc940d4-e858-4b4d-fe17-f8d15c9c699c"
      },
      "execution_count": 15,
      "outputs": [
        {
          "output_type": "execute_result",
          "data": {
            "text/plain": [
              "True"
            ]
          },
          "metadata": {},
          "execution_count": 15
        }
      ]
    },
    {
      "cell_type": "code",
      "source": [
        "len(set5) == len(set2) - len(set4)"
      ],
      "metadata": {
        "colab": {
          "base_uri": "https://localhost:8080/"
        },
        "id": "poFlA9DrvEoM",
        "outputId": "17956279-c43d-427e-dcaa-d54136943313"
      },
      "execution_count": 16,
      "outputs": [
        {
          "output_type": "execute_result",
          "data": {
            "text/plain": [
              "True"
            ]
          },
          "metadata": {},
          "execution_count": 16
        }
      ]
    },
    {
      "cell_type": "code",
      "source": [
        "len(set1) == (len(set2) - len(set4)) + len(set3)"
      ],
      "metadata": {
        "colab": {
          "base_uri": "https://localhost:8080/"
        },
        "id": "Da57CzbbvQFD",
        "outputId": "7081c184-4edd-4ba1-9ae8-4a69f1cfdbff"
      },
      "execution_count": 17,
      "outputs": [
        {
          "output_type": "execute_result",
          "data": {
            "text/plain": [
              "True"
            ]
          },
          "metadata": {},
          "execution_count": 17
        }
      ]
    },
    {
      "cell_type": "code",
      "source": [
        "#No sé si he entendido del todo bien el ejercicio, pero he representado las relaciones que he encontrado entre las longitudes de los sets. Pido corrección de esta parte por si no es lo que se pedía exactamente."
      ],
      "metadata": {
        "id": "y5lPgGn8wU6M"
      },
      "execution_count": null,
      "outputs": []
    },
    {
      "cell_type": "markdown",
      "metadata": {
        "id": "n3eBUQ9avdYI"
      },
      "source": [
        "#### Create an empty set called `set6`."
      ]
    },
    {
      "cell_type": "code",
      "execution_count": 18,
      "metadata": {
        "colab": {
          "base_uri": "https://localhost:8080/"
        },
        "id": "quJ_1_0XvdYJ",
        "outputId": "0c69314b-5e81-4be6-ab09-936ecf7408fe"
      },
      "outputs": [
        {
          "output_type": "execute_result",
          "data": {
            "text/plain": [
              "set"
            ]
          },
          "metadata": {},
          "execution_count": 18
        }
      ],
      "source": [
        "# Your code here\n",
        "set6= set()\n",
        "type (set6)"
      ]
    },
    {
      "cell_type": "markdown",
      "metadata": {
        "id": "SMxBPMtxvdYJ"
      },
      "source": [
        "#### Add `set3` and `set5` to `set6` using the Python Set `update` method."
      ]
    },
    {
      "cell_type": "code",
      "execution_count": 19,
      "metadata": {
        "colab": {
          "base_uri": "https://localhost:8080/"
        },
        "id": "ve-xWd08vdYJ",
        "outputId": "97a0e858-234d-45fd-e775-e951cd66c85b"
      },
      "outputs": [
        {
          "output_type": "execute_result",
          "data": {
            "text/plain": [
              "80"
            ]
          },
          "metadata": {},
          "execution_count": 19
        }
      ],
      "source": [
        "# Your code here\n",
        "set6.update(set3)\n",
        "set6.update(set5)\n",
        "\n",
        "len(set6)"
      ]
    },
    {
      "cell_type": "markdown",
      "metadata": {
        "id": "OZS7pZ4vvdYJ"
      },
      "source": [
        "#### Check if `set1` and `set6` are equal."
      ]
    },
    {
      "cell_type": "code",
      "execution_count": 20,
      "metadata": {
        "colab": {
          "base_uri": "https://localhost:8080/"
        },
        "id": "YG23WGUmvdYK",
        "outputId": "d5e2cc33-cf0f-493c-bcc0-3852ac3967e7"
      },
      "outputs": [
        {
          "output_type": "execute_result",
          "data": {
            "text/plain": [
              "True"
            ]
          },
          "metadata": {},
          "execution_count": 20
        }
      ],
      "source": [
        "# Your code here\n",
        "set1 == set6"
      ]
    },
    {
      "cell_type": "markdown",
      "metadata": {
        "id": "1yOFyQWIvdYK"
      },
      "source": [
        "#### Check if `set1` contains `set2` using the Python Set `issubset` method. Then check if `set1` contains `set3`.*"
      ]
    },
    {
      "cell_type": "code",
      "execution_count": 21,
      "metadata": {
        "colab": {
          "base_uri": "https://localhost:8080/"
        },
        "id": "OiEpscZxvdYK",
        "outputId": "65e65d1e-1a36-434a-d373-1bbfec1663a3"
      },
      "outputs": [
        {
          "output_type": "execute_result",
          "data": {
            "text/plain": [
              "False"
            ]
          },
          "metadata": {},
          "execution_count": 21
        }
      ],
      "source": [
        "# Your code here\n",
        "set2.issubset(set1)"
      ]
    },
    {
      "cell_type": "code",
      "source": [
        "set3.issubset(set1)"
      ],
      "metadata": {
        "colab": {
          "base_uri": "https://localhost:8080/"
        },
        "id": "AdKyRx60Baz0",
        "outputId": "bfdc1e8c-5136-4cd6-e7f9-946f6461cc44"
      },
      "execution_count": 22,
      "outputs": [
        {
          "output_type": "execute_result",
          "data": {
            "text/plain": [
              "True"
            ]
          },
          "metadata": {},
          "execution_count": 22
        }
      ]
    },
    {
      "cell_type": "markdown",
      "metadata": {
        "id": "iZdo-rbkvdYK"
      },
      "source": [
        "#### Using the Python Set `union` method, aggregate `set3`, `set4`, and `set5`. Then aggregate `set1` and `set2`. \n",
        "\n",
        "#### Check if the aggregated values are equal."
      ]
    },
    {
      "cell_type": "code",
      "execution_count": 23,
      "metadata": {
        "colab": {
          "base_uri": "https://localhost:8080/"
        },
        "id": "N2dBmBI_vdYK",
        "outputId": "9ddea595-dc54-4547-eaa5-d879868d34e1"
      },
      "outputs": [
        {
          "output_type": "execute_result",
          "data": {
            "text/plain": [
              "True"
            ]
          },
          "metadata": {},
          "execution_count": 23
        }
      ],
      "source": [
        "# Your code here\n",
        "union_sets_1 = set3.union(set4, set5)\n",
        "union_sets_2 = set1.union(set2)\n",
        "\n",
        "union_sets_1 == union_sets_2"
      ]
    },
    {
      "cell_type": "markdown",
      "metadata": {
        "id": "yqbMmo1yvdYK"
      },
      "source": [
        "#### Using the `pop` method, remove the first element from `set1`."
      ]
    },
    {
      "cell_type": "code",
      "execution_count": 24,
      "metadata": {
        "colab": {
          "base_uri": "https://localhost:8080/"
        },
        "id": "HxCUbZ_JvdYL",
        "outputId": "071a0e12-adb1-4f1d-fc63-74b4c1fb79f7"
      },
      "outputs": [
        {
          "output_type": "execute_result",
          "data": {
            "text/plain": [
              "0"
            ]
          },
          "metadata": {},
          "execution_count": 24
        }
      ],
      "source": [
        "# Your code here\n",
        "lst1 = list(set1)\n",
        "lst1.pop(0)\n",
        "\n"
      ]
    },
    {
      "cell_type": "markdown",
      "metadata": {
        "id": "NC15c4dFvdYL"
      },
      "source": [
        "#### Remove every element in the following list from `set1` if they are present in the set. Print the remaining elements.\n",
        "\n",
        "```\n",
        "list_to_remove = [1, 9, 11, 19, 21, 29, 31, 39, 41, 49, 51, 59, 61, 69, 71, 79, 81, 89, 91, 99]\n",
        "```"
      ]
    },
    {
      "cell_type": "code",
      "execution_count": 25,
      "metadata": {
        "colab": {
          "base_uri": "https://localhost:8080/",
          "height": 235
        },
        "id": "hdJ73Ml4vdYL",
        "outputId": "6351d9b7-395f-4962-ed5a-d703c43e5145"
      },
      "outputs": [
        {
          "output_type": "error",
          "ename": "RuntimeError",
          "evalue": "ignored",
          "traceback": [
            "\u001b[0;31m---------------------------------------------------------------------------\u001b[0m",
            "\u001b[0;31mRuntimeError\u001b[0m                              Traceback (most recent call last)",
            "\u001b[0;32m<ipython-input-25-e265ed251f60>\u001b[0m in \u001b[0;36m<module>\u001b[0;34m()\u001b[0m\n\u001b[1;32m      2\u001b[0m \u001b[0mlist_to_remove\u001b[0m \u001b[0;34m=\u001b[0m \u001b[0;34m[\u001b[0m\u001b[0;36m1\u001b[0m\u001b[0;34m,\u001b[0m \u001b[0;36m9\u001b[0m\u001b[0;34m,\u001b[0m \u001b[0;36m11\u001b[0m\u001b[0;34m,\u001b[0m \u001b[0;36m19\u001b[0m\u001b[0;34m,\u001b[0m \u001b[0;36m21\u001b[0m\u001b[0;34m,\u001b[0m \u001b[0;36m29\u001b[0m\u001b[0;34m,\u001b[0m \u001b[0;36m31\u001b[0m\u001b[0;34m,\u001b[0m \u001b[0;36m39\u001b[0m\u001b[0;34m,\u001b[0m \u001b[0;36m41\u001b[0m\u001b[0;34m,\u001b[0m \u001b[0;36m49\u001b[0m\u001b[0;34m,\u001b[0m \u001b[0;36m51\u001b[0m\u001b[0;34m,\u001b[0m \u001b[0;36m59\u001b[0m\u001b[0;34m,\u001b[0m \u001b[0;36m61\u001b[0m\u001b[0;34m,\u001b[0m \u001b[0;36m69\u001b[0m\u001b[0;34m,\u001b[0m \u001b[0;36m71\u001b[0m\u001b[0;34m,\u001b[0m \u001b[0;36m79\u001b[0m\u001b[0;34m,\u001b[0m \u001b[0;36m81\u001b[0m\u001b[0;34m,\u001b[0m \u001b[0;36m89\u001b[0m\u001b[0;34m,\u001b[0m \u001b[0;36m91\u001b[0m\u001b[0;34m,\u001b[0m \u001b[0;36m99\u001b[0m\u001b[0;34m]\u001b[0m\u001b[0;34m\u001b[0m\u001b[0;34m\u001b[0m\u001b[0m\n\u001b[1;32m      3\u001b[0m \u001b[0;34m\u001b[0m\u001b[0m\n\u001b[0;32m----> 4\u001b[0;31m \u001b[0;32mfor\u001b[0m \u001b[0;34m(\u001b[0m\u001b[0mi\u001b[0m\u001b[0;34m)\u001b[0m \u001b[0;32min\u001b[0m \u001b[0mset1\u001b[0m\u001b[0;34m:\u001b[0m\u001b[0;34m\u001b[0m\u001b[0;34m\u001b[0m\u001b[0m\n\u001b[0m\u001b[1;32m      5\u001b[0m   \u001b[0;32mif\u001b[0m \u001b[0;34m(\u001b[0m\u001b[0mi\u001b[0m\u001b[0;34m)\u001b[0m \u001b[0;32min\u001b[0m \u001b[0mlist_to_remove\u001b[0m\u001b[0;34m:\u001b[0m\u001b[0;34m\u001b[0m\u001b[0;34m\u001b[0m\u001b[0m\n\u001b[1;32m      6\u001b[0m     \u001b[0mset1\u001b[0m\u001b[0;34m.\u001b[0m\u001b[0mdiscard\u001b[0m\u001b[0;34m(\u001b[0m\u001b[0mi\u001b[0m\u001b[0;34m)\u001b[0m\u001b[0;34m\u001b[0m\u001b[0;34m\u001b[0m\u001b[0m\n",
            "\u001b[0;31mRuntimeError\u001b[0m: Set changed size during iteration"
          ]
        }
      ],
      "source": [
        "# Your code here\n",
        "list_to_remove = [1, 9, 11, 19, 21, 29, 31, 39, 41, 49, 51, 59, 61, 69, 71, 79, 81, 89, 91, 99]\n",
        "\n",
        "for (i) in set1:\n",
        "  if (i) in list_to_remove:\n",
        "    set1.discard(i)\n",
        "\n",
        "print(set1) \n",
        "\n",
        "\n",
        "#Tiene sentido el error dado que el rango del set va cambiando conforme se va ejecutando el loop, pero no sé cómo solucionarlo. Lo he intentado con lst1, para popear el element(i) de la lista y luego convertir la lista en set, pero me devuelve que la definición no es correcta."
      ]
    }
  ],
  "metadata": {
    "kernelspec": {
      "display_name": "Python 3",
      "language": "python",
      "name": "python3"
    },
    "language_info": {
      "codemirror_mode": {
        "name": "ipython",
        "version": 3
      },
      "file_extension": ".py",
      "mimetype": "text/x-python",
      "name": "python",
      "nbconvert_exporter": "python",
      "pygments_lexer": "ipython3",
      "version": "3.7.2"
    },
    "colab": {
      "name": "challenge-2.ipynb",
      "provenance": []
    }
  },
  "nbformat": 4,
  "nbformat_minor": 0
}